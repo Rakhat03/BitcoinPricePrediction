{
 "cells": [
  {
   "cell_type": "code",
   "execution_count": 5,
   "metadata": {},
   "outputs": [],
   "source": [
    "import requests\n",
    "import json\n",
    "import time\n",
    "import sys\n",
    "import pandas as pd\n",
    "import calendar\n",
    "from datetime import datetime, timedelta"
   ]
  },
  {
   "cell_type": "code",
   "execution_count": 6,
   "metadata": {},
   "outputs": [],
   "source": [
    "def get_first_trade_id_from_start_date(symbol, from_date):\n",
    "    r = requests.get('https://api.binance.com/api/v3/aggTrades',\n",
    "        params = {\n",
    "            \"symbol\" : symbol,\n",
    "            \"limit\": 1000,\n",
    "            \"startTime\": from_date,\n",
    "        })\n",
    "    return r.json()"
   ]
  },
  {
   "cell_type": "code",
   "execution_count": 7,
   "metadata": {},
   "outputs": [],
   "source": [
    "def get_trades(symbol, from_id):\n",
    "    r = requests.get(\"https://api.binance.com/api/v3/aggTrades\",\n",
    "        params = {\n",
    "            \"symbol\": symbol,\n",
    "            \"limit\": 1000,\n",
    "            \"fromId\": from_id+1\n",
    "            })\n",
    "    return r.json()"
   ]
  },
  {
   "cell_type": "code",
   "execution_count": 8,
   "metadata": {},
   "outputs": [
    {
     "name": "stdout",
     "output_type": "stream",
     "text": [
      "smth\n",
      "smth\n"
     ]
    }
   ],
   "source": [
    "curr=1678680687197\n",
    "till=1678692249666\n",
    "symbol = 'BTCUSDT'\n",
    "df =  pd.DataFrame(get_first_trade_id_from_start_date(symbol, curr))\n",
    "\n",
    "while curr<till:\n",
    "    try:\n",
    "        df1 = pd.DataFrame(get_trades(symbol, from_id = df.iloc[-1, 0]))\n",
    "        curr = df1.iloc[-1, 5]\n",
    "        df = pd.concat([df, df1])\n",
    "        time.sleep(0.1)\n",
    "    except Exception:\n",
    "        print('smth')\n",
    "        time.sleep(0.2)\n",
    "df = df[df[\"T\"]<=till]"
   ]
  },
  {
   "cell_type": "code",
   "execution_count": 9,
   "metadata": {},
   "outputs": [],
   "source": [
    "df.to_csv('BTCUSDT')"
   ]
  },
  {
   "cell_type": "code",
   "execution_count": null,
   "metadata": {},
   "outputs": [],
   "source": []
  }
 ],
 "metadata": {
  "kernelspec": {
   "display_name": "Python 3",
   "language": "python",
   "name": "python3"
  },
  "language_info": {
   "codemirror_mode": {
    "name": "ipython",
    "version": 3
   },
   "file_extension": ".py",
   "mimetype": "text/x-python",
   "name": "python",
   "nbconvert_exporter": "python",
   "pygments_lexer": "ipython3",
   "version": "3.8.5"
  }
 },
 "nbformat": 4,
 "nbformat_minor": 4
}
